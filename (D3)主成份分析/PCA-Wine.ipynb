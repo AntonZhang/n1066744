{
 "cells": [
  {
   "cell_type": "markdown",
   "metadata": {},
   "source": [
    "# 資料匯入"
   ]
  },
  {
   "cell_type": "code",
   "execution_count": 1,
   "metadata": {},
   "outputs": [
    {
     "data": {
      "text/html": [
       "<div>\n",
       "<style scoped>\n",
       "    .dataframe tbody tr th:only-of-type {\n",
       "        vertical-align: middle;\n",
       "    }\n",
       "\n",
       "    .dataframe tbody tr th {\n",
       "        vertical-align: top;\n",
       "    }\n",
       "\n",
       "    .dataframe thead th {\n",
       "        text-align: right;\n",
       "    }\n",
       "</style>\n",
       "<table border=\"1\" class=\"dataframe\">\n",
       "  <thead>\n",
       "    <tr style=\"text-align: right;\">\n",
       "      <th></th>\n",
       "      <th>酒精</th>\n",
       "      <th>蘋果酸</th>\n",
       "      <th>灰燼</th>\n",
       "      <th>灰燼的鹼度</th>\n",
       "      <th>鎂</th>\n",
       "      <th>總酚</th>\n",
       "      <th>黃烷類</th>\n",
       "      <th>Nonflavanoid酚</th>\n",
       "      <th>前花青素</th>\n",
       "      <th>顏色強度</th>\n",
       "      <th>顏色</th>\n",
       "      <th>OD280/OD315被稀釋的酒</th>\n",
       "      <th>脯氨酸</th>\n",
       "      <th>顧客區隔</th>\n",
       "    </tr>\n",
       "  </thead>\n",
       "  <tbody>\n",
       "    <tr>\n",
       "      <th>0</th>\n",
       "      <td>14.23</td>\n",
       "      <td>1.71</td>\n",
       "      <td>2.43</td>\n",
       "      <td>15.6</td>\n",
       "      <td>127</td>\n",
       "      <td>2.80</td>\n",
       "      <td>3.06</td>\n",
       "      <td>0.28</td>\n",
       "      <td>2.29</td>\n",
       "      <td>5.64</td>\n",
       "      <td>1.04</td>\n",
       "      <td>3.92</td>\n",
       "      <td>1065</td>\n",
       "      <td>1</td>\n",
       "    </tr>\n",
       "    <tr>\n",
       "      <th>1</th>\n",
       "      <td>13.20</td>\n",
       "      <td>1.78</td>\n",
       "      <td>2.14</td>\n",
       "      <td>11.2</td>\n",
       "      <td>100</td>\n",
       "      <td>2.65</td>\n",
       "      <td>2.76</td>\n",
       "      <td>0.26</td>\n",
       "      <td>1.28</td>\n",
       "      <td>4.38</td>\n",
       "      <td>1.05</td>\n",
       "      <td>3.40</td>\n",
       "      <td>1050</td>\n",
       "      <td>1</td>\n",
       "    </tr>\n",
       "    <tr>\n",
       "      <th>2</th>\n",
       "      <td>13.16</td>\n",
       "      <td>2.36</td>\n",
       "      <td>2.67</td>\n",
       "      <td>18.6</td>\n",
       "      <td>101</td>\n",
       "      <td>2.80</td>\n",
       "      <td>3.24</td>\n",
       "      <td>0.30</td>\n",
       "      <td>2.81</td>\n",
       "      <td>5.68</td>\n",
       "      <td>1.03</td>\n",
       "      <td>3.17</td>\n",
       "      <td>1185</td>\n",
       "      <td>1</td>\n",
       "    </tr>\n",
       "    <tr>\n",
       "      <th>3</th>\n",
       "      <td>14.37</td>\n",
       "      <td>1.95</td>\n",
       "      <td>2.50</td>\n",
       "      <td>16.8</td>\n",
       "      <td>113</td>\n",
       "      <td>3.85</td>\n",
       "      <td>3.49</td>\n",
       "      <td>0.24</td>\n",
       "      <td>2.18</td>\n",
       "      <td>7.80</td>\n",
       "      <td>0.86</td>\n",
       "      <td>3.45</td>\n",
       "      <td>1480</td>\n",
       "      <td>1</td>\n",
       "    </tr>\n",
       "    <tr>\n",
       "      <th>4</th>\n",
       "      <td>13.24</td>\n",
       "      <td>2.59</td>\n",
       "      <td>2.87</td>\n",
       "      <td>21.0</td>\n",
       "      <td>118</td>\n",
       "      <td>2.80</td>\n",
       "      <td>2.69</td>\n",
       "      <td>0.39</td>\n",
       "      <td>1.82</td>\n",
       "      <td>4.32</td>\n",
       "      <td>1.04</td>\n",
       "      <td>2.93</td>\n",
       "      <td>735</td>\n",
       "      <td>1</td>\n",
       "    </tr>\n",
       "  </tbody>\n",
       "</table>\n",
       "</div>"
      ],
      "text/plain": [
       "      酒精   蘋果酸    灰燼  灰燼的鹼度     鎂   總酚    黃烷類  Nonflavanoid酚  前花青素  顏色強度   \\\n",
       "0  14.23  1.71  2.43    15.6  127  2.80  3.06           0.28  2.29   5.64   \n",
       "1  13.20  1.78  2.14    11.2  100  2.65  2.76           0.26  1.28   4.38   \n",
       "2  13.16  2.36  2.67    18.6  101  2.80  3.24           0.30  2.81   5.68   \n",
       "3  14.37  1.95  2.50    16.8  113  3.85  3.49           0.24  2.18   7.80   \n",
       "4  13.24  2.59  2.87    21.0  118  2.80  2.69           0.39  1.82   4.32   \n",
       "\n",
       "     顏色  OD280/OD315被稀釋的酒   脯氨酸  顧客區隔  \n",
       "0  1.04              3.92  1065     1  \n",
       "1  1.05              3.40  1050     1  \n",
       "2  1.03              3.17  1185     1  \n",
       "3  0.86              3.45  1480     1  \n",
       "4  1.04              2.93   735     1  "
      ]
     },
     "execution_count": 1,
     "metadata": {},
     "output_type": "execute_result"
    }
   ],
   "source": [
    "import pandas as pd\n",
    "df = pd.read_csv(\"Wine.csv\",encoding = \"big5\")\n",
    "df.head()"
   ]
  },
  {
   "cell_type": "code",
   "execution_count": 2,
   "metadata": {},
   "outputs": [],
   "source": [
    "X = df.drop('顧客區隔',axis=1)\n",
    "y = df['顧客區隔']"
   ]
  },
  {
   "cell_type": "code",
   "execution_count": 3,
   "metadata": {},
   "outputs": [],
   "source": [
    "# 把DataFrame加上highlight背景色\n",
    "def highlight_highcorr(s):\n",
    "    is_high = ((s >= 0.6) & (s < 1)) #Series condition setting\n",
    "    return ['background-color: Yellow' if v else '' for v in is_high]"
   ]
  },
  {
   "cell_type": "code",
   "execution_count": 4,
   "metadata": {},
   "outputs": [
    {
     "data": {
      "text/html": [
       "<style  type=\"text/css\" >\n",
       "    #T_240b8b14_bee0_11e8_85ea_88d7f6ae85f1row0_col12 {\n",
       "            background-color:  Yellow;\n",
       "        }    #T_240b8b14_bee0_11e8_85ea_88d7f6ae85f1row5_col6 {\n",
       "            background-color:  Yellow;\n",
       "        }    #T_240b8b14_bee0_11e8_85ea_88d7f6ae85f1row5_col8 {\n",
       "            background-color:  Yellow;\n",
       "        }    #T_240b8b14_bee0_11e8_85ea_88d7f6ae85f1row5_col11 {\n",
       "            background-color:  Yellow;\n",
       "        }    #T_240b8b14_bee0_11e8_85ea_88d7f6ae85f1row6_col5 {\n",
       "            background-color:  Yellow;\n",
       "        }    #T_240b8b14_bee0_11e8_85ea_88d7f6ae85f1row6_col8 {\n",
       "            background-color:  Yellow;\n",
       "        }    #T_240b8b14_bee0_11e8_85ea_88d7f6ae85f1row6_col11 {\n",
       "            background-color:  Yellow;\n",
       "        }    #T_240b8b14_bee0_11e8_85ea_88d7f6ae85f1row8_col5 {\n",
       "            background-color:  Yellow;\n",
       "        }    #T_240b8b14_bee0_11e8_85ea_88d7f6ae85f1row8_col6 {\n",
       "            background-color:  Yellow;\n",
       "        }    #T_240b8b14_bee0_11e8_85ea_88d7f6ae85f1row11_col5 {\n",
       "            background-color:  Yellow;\n",
       "        }    #T_240b8b14_bee0_11e8_85ea_88d7f6ae85f1row11_col6 {\n",
       "            background-color:  Yellow;\n",
       "        }    #T_240b8b14_bee0_11e8_85ea_88d7f6ae85f1row12_col0 {\n",
       "            background-color:  Yellow;\n",
       "        }</style>  \n",
       "<table id=\"T_240b8b14_bee0_11e8_85ea_88d7f6ae85f1\" > \n",
       "<thead>    <tr> \n",
       "        <th class=\"blank level0\" ></th> \n",
       "        <th class=\"col_heading level0 col0\" >酒精</th> \n",
       "        <th class=\"col_heading level0 col1\" >蘋果酸</th> \n",
       "        <th class=\"col_heading level0 col2\" >灰燼</th> \n",
       "        <th class=\"col_heading level0 col3\" >灰燼的鹼度 </th> \n",
       "        <th class=\"col_heading level0 col4\" >鎂</th> \n",
       "        <th class=\"col_heading level0 col5\" >總酚 </th> \n",
       "        <th class=\"col_heading level0 col6\" >黃烷類</th> \n",
       "        <th class=\"col_heading level0 col7\" >Nonflavanoid酚</th> \n",
       "        <th class=\"col_heading level0 col8\" >前花青素</th> \n",
       "        <th class=\"col_heading level0 col9\" >顏色強度 </th> \n",
       "        <th class=\"col_heading level0 col10\" >顏色</th> \n",
       "        <th class=\"col_heading level0 col11\" >OD280/OD315被稀釋的酒</th> \n",
       "        <th class=\"col_heading level0 col12\" >脯氨酸</th> \n",
       "    </tr></thead> \n",
       "<tbody>    <tr> \n",
       "        <th id=\"T_240b8b14_bee0_11e8_85ea_88d7f6ae85f1level0_row0\" class=\"row_heading level0 row0\" >酒精</th> \n",
       "        <td id=\"T_240b8b14_bee0_11e8_85ea_88d7f6ae85f1row0_col0\" class=\"data row0 col0\" >1</td> \n",
       "        <td id=\"T_240b8b14_bee0_11e8_85ea_88d7f6ae85f1row0_col1\" class=\"data row0 col1\" >0.094</td> \n",
       "        <td id=\"T_240b8b14_bee0_11e8_85ea_88d7f6ae85f1row0_col2\" class=\"data row0 col2\" >0.212</td> \n",
       "        <td id=\"T_240b8b14_bee0_11e8_85ea_88d7f6ae85f1row0_col3\" class=\"data row0 col3\" >-0.31</td> \n",
       "        <td id=\"T_240b8b14_bee0_11e8_85ea_88d7f6ae85f1row0_col4\" class=\"data row0 col4\" >0.271</td> \n",
       "        <td id=\"T_240b8b14_bee0_11e8_85ea_88d7f6ae85f1row0_col5\" class=\"data row0 col5\" >0.289</td> \n",
       "        <td id=\"T_240b8b14_bee0_11e8_85ea_88d7f6ae85f1row0_col6\" class=\"data row0 col6\" >0.237</td> \n",
       "        <td id=\"T_240b8b14_bee0_11e8_85ea_88d7f6ae85f1row0_col7\" class=\"data row0 col7\" >-0.156</td> \n",
       "        <td id=\"T_240b8b14_bee0_11e8_85ea_88d7f6ae85f1row0_col8\" class=\"data row0 col8\" >0.137</td> \n",
       "        <td id=\"T_240b8b14_bee0_11e8_85ea_88d7f6ae85f1row0_col9\" class=\"data row0 col9\" >0.546</td> \n",
       "        <td id=\"T_240b8b14_bee0_11e8_85ea_88d7f6ae85f1row0_col10\" class=\"data row0 col10\" >-0.072</td> \n",
       "        <td id=\"T_240b8b14_bee0_11e8_85ea_88d7f6ae85f1row0_col11\" class=\"data row0 col11\" >0.072</td> \n",
       "        <td id=\"T_240b8b14_bee0_11e8_85ea_88d7f6ae85f1row0_col12\" class=\"data row0 col12\" >0.644</td> \n",
       "    </tr>    <tr> \n",
       "        <th id=\"T_240b8b14_bee0_11e8_85ea_88d7f6ae85f1level0_row1\" class=\"row_heading level0 row1\" >蘋果酸</th> \n",
       "        <td id=\"T_240b8b14_bee0_11e8_85ea_88d7f6ae85f1row1_col0\" class=\"data row1 col0\" >0.094</td> \n",
       "        <td id=\"T_240b8b14_bee0_11e8_85ea_88d7f6ae85f1row1_col1\" class=\"data row1 col1\" >1</td> \n",
       "        <td id=\"T_240b8b14_bee0_11e8_85ea_88d7f6ae85f1row1_col2\" class=\"data row1 col2\" >0.164</td> \n",
       "        <td id=\"T_240b8b14_bee0_11e8_85ea_88d7f6ae85f1row1_col3\" class=\"data row1 col3\" >0.289</td> \n",
       "        <td id=\"T_240b8b14_bee0_11e8_85ea_88d7f6ae85f1row1_col4\" class=\"data row1 col4\" >-0.055</td> \n",
       "        <td id=\"T_240b8b14_bee0_11e8_85ea_88d7f6ae85f1row1_col5\" class=\"data row1 col5\" >-0.335</td> \n",
       "        <td id=\"T_240b8b14_bee0_11e8_85ea_88d7f6ae85f1row1_col6\" class=\"data row1 col6\" >-0.411</td> \n",
       "        <td id=\"T_240b8b14_bee0_11e8_85ea_88d7f6ae85f1row1_col7\" class=\"data row1 col7\" >0.293</td> \n",
       "        <td id=\"T_240b8b14_bee0_11e8_85ea_88d7f6ae85f1row1_col8\" class=\"data row1 col8\" >-0.221</td> \n",
       "        <td id=\"T_240b8b14_bee0_11e8_85ea_88d7f6ae85f1row1_col9\" class=\"data row1 col9\" >0.249</td> \n",
       "        <td id=\"T_240b8b14_bee0_11e8_85ea_88d7f6ae85f1row1_col10\" class=\"data row1 col10\" >-0.561</td> \n",
       "        <td id=\"T_240b8b14_bee0_11e8_85ea_88d7f6ae85f1row1_col11\" class=\"data row1 col11\" >-0.369</td> \n",
       "        <td id=\"T_240b8b14_bee0_11e8_85ea_88d7f6ae85f1row1_col12\" class=\"data row1 col12\" >-0.192</td> \n",
       "    </tr>    <tr> \n",
       "        <th id=\"T_240b8b14_bee0_11e8_85ea_88d7f6ae85f1level0_row2\" class=\"row_heading level0 row2\" >灰燼</th> \n",
       "        <td id=\"T_240b8b14_bee0_11e8_85ea_88d7f6ae85f1row2_col0\" class=\"data row2 col0\" >0.212</td> \n",
       "        <td id=\"T_240b8b14_bee0_11e8_85ea_88d7f6ae85f1row2_col1\" class=\"data row2 col1\" >0.164</td> \n",
       "        <td id=\"T_240b8b14_bee0_11e8_85ea_88d7f6ae85f1row2_col2\" class=\"data row2 col2\" >1</td> \n",
       "        <td id=\"T_240b8b14_bee0_11e8_85ea_88d7f6ae85f1row2_col3\" class=\"data row2 col3\" >0.443</td> \n",
       "        <td id=\"T_240b8b14_bee0_11e8_85ea_88d7f6ae85f1row2_col4\" class=\"data row2 col4\" >0.287</td> \n",
       "        <td id=\"T_240b8b14_bee0_11e8_85ea_88d7f6ae85f1row2_col5\" class=\"data row2 col5\" >0.129</td> \n",
       "        <td id=\"T_240b8b14_bee0_11e8_85ea_88d7f6ae85f1row2_col6\" class=\"data row2 col6\" >0.115</td> \n",
       "        <td id=\"T_240b8b14_bee0_11e8_85ea_88d7f6ae85f1row2_col7\" class=\"data row2 col7\" >0.186</td> \n",
       "        <td id=\"T_240b8b14_bee0_11e8_85ea_88d7f6ae85f1row2_col8\" class=\"data row2 col8\" >0.01</td> \n",
       "        <td id=\"T_240b8b14_bee0_11e8_85ea_88d7f6ae85f1row2_col9\" class=\"data row2 col9\" >0.259</td> \n",
       "        <td id=\"T_240b8b14_bee0_11e8_85ea_88d7f6ae85f1row2_col10\" class=\"data row2 col10\" >-0.075</td> \n",
       "        <td id=\"T_240b8b14_bee0_11e8_85ea_88d7f6ae85f1row2_col11\" class=\"data row2 col11\" >0.004</td> \n",
       "        <td id=\"T_240b8b14_bee0_11e8_85ea_88d7f6ae85f1row2_col12\" class=\"data row2 col12\" >0.224</td> \n",
       "    </tr>    <tr> \n",
       "        <th id=\"T_240b8b14_bee0_11e8_85ea_88d7f6ae85f1level0_row3\" class=\"row_heading level0 row3\" >灰燼的鹼度 </th> \n",
       "        <td id=\"T_240b8b14_bee0_11e8_85ea_88d7f6ae85f1row3_col0\" class=\"data row3 col0\" >-0.31</td> \n",
       "        <td id=\"T_240b8b14_bee0_11e8_85ea_88d7f6ae85f1row3_col1\" class=\"data row3 col1\" >0.289</td> \n",
       "        <td id=\"T_240b8b14_bee0_11e8_85ea_88d7f6ae85f1row3_col2\" class=\"data row3 col2\" >0.443</td> \n",
       "        <td id=\"T_240b8b14_bee0_11e8_85ea_88d7f6ae85f1row3_col3\" class=\"data row3 col3\" >1</td> \n",
       "        <td id=\"T_240b8b14_bee0_11e8_85ea_88d7f6ae85f1row3_col4\" class=\"data row3 col4\" >-0.083</td> \n",
       "        <td id=\"T_240b8b14_bee0_11e8_85ea_88d7f6ae85f1row3_col5\" class=\"data row3 col5\" >-0.321</td> \n",
       "        <td id=\"T_240b8b14_bee0_11e8_85ea_88d7f6ae85f1row3_col6\" class=\"data row3 col6\" >-0.351</td> \n",
       "        <td id=\"T_240b8b14_bee0_11e8_85ea_88d7f6ae85f1row3_col7\" class=\"data row3 col7\" >0.362</td> \n",
       "        <td id=\"T_240b8b14_bee0_11e8_85ea_88d7f6ae85f1row3_col8\" class=\"data row3 col8\" >-0.197</td> \n",
       "        <td id=\"T_240b8b14_bee0_11e8_85ea_88d7f6ae85f1row3_col9\" class=\"data row3 col9\" >0.019</td> \n",
       "        <td id=\"T_240b8b14_bee0_11e8_85ea_88d7f6ae85f1row3_col10\" class=\"data row3 col10\" >-0.274</td> \n",
       "        <td id=\"T_240b8b14_bee0_11e8_85ea_88d7f6ae85f1row3_col11\" class=\"data row3 col11\" >-0.277</td> \n",
       "        <td id=\"T_240b8b14_bee0_11e8_85ea_88d7f6ae85f1row3_col12\" class=\"data row3 col12\" >-0.441</td> \n",
       "    </tr>    <tr> \n",
       "        <th id=\"T_240b8b14_bee0_11e8_85ea_88d7f6ae85f1level0_row4\" class=\"row_heading level0 row4\" >鎂</th> \n",
       "        <td id=\"T_240b8b14_bee0_11e8_85ea_88d7f6ae85f1row4_col0\" class=\"data row4 col0\" >0.271</td> \n",
       "        <td id=\"T_240b8b14_bee0_11e8_85ea_88d7f6ae85f1row4_col1\" class=\"data row4 col1\" >-0.055</td> \n",
       "        <td id=\"T_240b8b14_bee0_11e8_85ea_88d7f6ae85f1row4_col2\" class=\"data row4 col2\" >0.287</td> \n",
       "        <td id=\"T_240b8b14_bee0_11e8_85ea_88d7f6ae85f1row4_col3\" class=\"data row4 col3\" >-0.083</td> \n",
       "        <td id=\"T_240b8b14_bee0_11e8_85ea_88d7f6ae85f1row4_col4\" class=\"data row4 col4\" >1</td> \n",
       "        <td id=\"T_240b8b14_bee0_11e8_85ea_88d7f6ae85f1row4_col5\" class=\"data row4 col5\" >0.214</td> \n",
       "        <td id=\"T_240b8b14_bee0_11e8_85ea_88d7f6ae85f1row4_col6\" class=\"data row4 col6\" >0.196</td> \n",
       "        <td id=\"T_240b8b14_bee0_11e8_85ea_88d7f6ae85f1row4_col7\" class=\"data row4 col7\" >-0.256</td> \n",
       "        <td id=\"T_240b8b14_bee0_11e8_85ea_88d7f6ae85f1row4_col8\" class=\"data row4 col8\" >0.236</td> \n",
       "        <td id=\"T_240b8b14_bee0_11e8_85ea_88d7f6ae85f1row4_col9\" class=\"data row4 col9\" >0.2</td> \n",
       "        <td id=\"T_240b8b14_bee0_11e8_85ea_88d7f6ae85f1row4_col10\" class=\"data row4 col10\" >0.055</td> \n",
       "        <td id=\"T_240b8b14_bee0_11e8_85ea_88d7f6ae85f1row4_col11\" class=\"data row4 col11\" >0.066</td> \n",
       "        <td id=\"T_240b8b14_bee0_11e8_85ea_88d7f6ae85f1row4_col12\" class=\"data row4 col12\" >0.393</td> \n",
       "    </tr>    <tr> \n",
       "        <th id=\"T_240b8b14_bee0_11e8_85ea_88d7f6ae85f1level0_row5\" class=\"row_heading level0 row5\" >總酚 </th> \n",
       "        <td id=\"T_240b8b14_bee0_11e8_85ea_88d7f6ae85f1row5_col0\" class=\"data row5 col0\" >0.289</td> \n",
       "        <td id=\"T_240b8b14_bee0_11e8_85ea_88d7f6ae85f1row5_col1\" class=\"data row5 col1\" >-0.335</td> \n",
       "        <td id=\"T_240b8b14_bee0_11e8_85ea_88d7f6ae85f1row5_col2\" class=\"data row5 col2\" >0.129</td> \n",
       "        <td id=\"T_240b8b14_bee0_11e8_85ea_88d7f6ae85f1row5_col3\" class=\"data row5 col3\" >-0.321</td> \n",
       "        <td id=\"T_240b8b14_bee0_11e8_85ea_88d7f6ae85f1row5_col4\" class=\"data row5 col4\" >0.214</td> \n",
       "        <td id=\"T_240b8b14_bee0_11e8_85ea_88d7f6ae85f1row5_col5\" class=\"data row5 col5\" >1</td> \n",
       "        <td id=\"T_240b8b14_bee0_11e8_85ea_88d7f6ae85f1row5_col6\" class=\"data row5 col6\" >0.865</td> \n",
       "        <td id=\"T_240b8b14_bee0_11e8_85ea_88d7f6ae85f1row5_col7\" class=\"data row5 col7\" >-0.45</td> \n",
       "        <td id=\"T_240b8b14_bee0_11e8_85ea_88d7f6ae85f1row5_col8\" class=\"data row5 col8\" >0.612</td> \n",
       "        <td id=\"T_240b8b14_bee0_11e8_85ea_88d7f6ae85f1row5_col9\" class=\"data row5 col9\" >-0.055</td> \n",
       "        <td id=\"T_240b8b14_bee0_11e8_85ea_88d7f6ae85f1row5_col10\" class=\"data row5 col10\" >0.434</td> \n",
       "        <td id=\"T_240b8b14_bee0_11e8_85ea_88d7f6ae85f1row5_col11\" class=\"data row5 col11\" >0.7</td> \n",
       "        <td id=\"T_240b8b14_bee0_11e8_85ea_88d7f6ae85f1row5_col12\" class=\"data row5 col12\" >0.498</td> \n",
       "    </tr>    <tr> \n",
       "        <th id=\"T_240b8b14_bee0_11e8_85ea_88d7f6ae85f1level0_row6\" class=\"row_heading level0 row6\" >黃烷類</th> \n",
       "        <td id=\"T_240b8b14_bee0_11e8_85ea_88d7f6ae85f1row6_col0\" class=\"data row6 col0\" >0.237</td> \n",
       "        <td id=\"T_240b8b14_bee0_11e8_85ea_88d7f6ae85f1row6_col1\" class=\"data row6 col1\" >-0.411</td> \n",
       "        <td id=\"T_240b8b14_bee0_11e8_85ea_88d7f6ae85f1row6_col2\" class=\"data row6 col2\" >0.115</td> \n",
       "        <td id=\"T_240b8b14_bee0_11e8_85ea_88d7f6ae85f1row6_col3\" class=\"data row6 col3\" >-0.351</td> \n",
       "        <td id=\"T_240b8b14_bee0_11e8_85ea_88d7f6ae85f1row6_col4\" class=\"data row6 col4\" >0.196</td> \n",
       "        <td id=\"T_240b8b14_bee0_11e8_85ea_88d7f6ae85f1row6_col5\" class=\"data row6 col5\" >0.865</td> \n",
       "        <td id=\"T_240b8b14_bee0_11e8_85ea_88d7f6ae85f1row6_col6\" class=\"data row6 col6\" >1</td> \n",
       "        <td id=\"T_240b8b14_bee0_11e8_85ea_88d7f6ae85f1row6_col7\" class=\"data row6 col7\" >-0.538</td> \n",
       "        <td id=\"T_240b8b14_bee0_11e8_85ea_88d7f6ae85f1row6_col8\" class=\"data row6 col8\" >0.653</td> \n",
       "        <td id=\"T_240b8b14_bee0_11e8_85ea_88d7f6ae85f1row6_col9\" class=\"data row6 col9\" >-0.172</td> \n",
       "        <td id=\"T_240b8b14_bee0_11e8_85ea_88d7f6ae85f1row6_col10\" class=\"data row6 col10\" >0.543</td> \n",
       "        <td id=\"T_240b8b14_bee0_11e8_85ea_88d7f6ae85f1row6_col11\" class=\"data row6 col11\" >0.787</td> \n",
       "        <td id=\"T_240b8b14_bee0_11e8_85ea_88d7f6ae85f1row6_col12\" class=\"data row6 col12\" >0.494</td> \n",
       "    </tr>    <tr> \n",
       "        <th id=\"T_240b8b14_bee0_11e8_85ea_88d7f6ae85f1level0_row7\" class=\"row_heading level0 row7\" >Nonflavanoid酚</th> \n",
       "        <td id=\"T_240b8b14_bee0_11e8_85ea_88d7f6ae85f1row7_col0\" class=\"data row7 col0\" >-0.156</td> \n",
       "        <td id=\"T_240b8b14_bee0_11e8_85ea_88d7f6ae85f1row7_col1\" class=\"data row7 col1\" >0.293</td> \n",
       "        <td id=\"T_240b8b14_bee0_11e8_85ea_88d7f6ae85f1row7_col2\" class=\"data row7 col2\" >0.186</td> \n",
       "        <td id=\"T_240b8b14_bee0_11e8_85ea_88d7f6ae85f1row7_col3\" class=\"data row7 col3\" >0.362</td> \n",
       "        <td id=\"T_240b8b14_bee0_11e8_85ea_88d7f6ae85f1row7_col4\" class=\"data row7 col4\" >-0.256</td> \n",
       "        <td id=\"T_240b8b14_bee0_11e8_85ea_88d7f6ae85f1row7_col5\" class=\"data row7 col5\" >-0.45</td> \n",
       "        <td id=\"T_240b8b14_bee0_11e8_85ea_88d7f6ae85f1row7_col6\" class=\"data row7 col6\" >-0.538</td> \n",
       "        <td id=\"T_240b8b14_bee0_11e8_85ea_88d7f6ae85f1row7_col7\" class=\"data row7 col7\" >1</td> \n",
       "        <td id=\"T_240b8b14_bee0_11e8_85ea_88d7f6ae85f1row7_col8\" class=\"data row7 col8\" >-0.366</td> \n",
       "        <td id=\"T_240b8b14_bee0_11e8_85ea_88d7f6ae85f1row7_col9\" class=\"data row7 col9\" >0.139</td> \n",
       "        <td id=\"T_240b8b14_bee0_11e8_85ea_88d7f6ae85f1row7_col10\" class=\"data row7 col10\" >-0.263</td> \n",
       "        <td id=\"T_240b8b14_bee0_11e8_85ea_88d7f6ae85f1row7_col11\" class=\"data row7 col11\" >-0.503</td> \n",
       "        <td id=\"T_240b8b14_bee0_11e8_85ea_88d7f6ae85f1row7_col12\" class=\"data row7 col12\" >-0.311</td> \n",
       "    </tr>    <tr> \n",
       "        <th id=\"T_240b8b14_bee0_11e8_85ea_88d7f6ae85f1level0_row8\" class=\"row_heading level0 row8\" >前花青素</th> \n",
       "        <td id=\"T_240b8b14_bee0_11e8_85ea_88d7f6ae85f1row8_col0\" class=\"data row8 col0\" >0.137</td> \n",
       "        <td id=\"T_240b8b14_bee0_11e8_85ea_88d7f6ae85f1row8_col1\" class=\"data row8 col1\" >-0.221</td> \n",
       "        <td id=\"T_240b8b14_bee0_11e8_85ea_88d7f6ae85f1row8_col2\" class=\"data row8 col2\" >0.01</td> \n",
       "        <td id=\"T_240b8b14_bee0_11e8_85ea_88d7f6ae85f1row8_col3\" class=\"data row8 col3\" >-0.197</td> \n",
       "        <td id=\"T_240b8b14_bee0_11e8_85ea_88d7f6ae85f1row8_col4\" class=\"data row8 col4\" >0.236</td> \n",
       "        <td id=\"T_240b8b14_bee0_11e8_85ea_88d7f6ae85f1row8_col5\" class=\"data row8 col5\" >0.612</td> \n",
       "        <td id=\"T_240b8b14_bee0_11e8_85ea_88d7f6ae85f1row8_col6\" class=\"data row8 col6\" >0.653</td> \n",
       "        <td id=\"T_240b8b14_bee0_11e8_85ea_88d7f6ae85f1row8_col7\" class=\"data row8 col7\" >-0.366</td> \n",
       "        <td id=\"T_240b8b14_bee0_11e8_85ea_88d7f6ae85f1row8_col8\" class=\"data row8 col8\" >1</td> \n",
       "        <td id=\"T_240b8b14_bee0_11e8_85ea_88d7f6ae85f1row8_col9\" class=\"data row8 col9\" >-0.025</td> \n",
       "        <td id=\"T_240b8b14_bee0_11e8_85ea_88d7f6ae85f1row8_col10\" class=\"data row8 col10\" >0.296</td> \n",
       "        <td id=\"T_240b8b14_bee0_11e8_85ea_88d7f6ae85f1row8_col11\" class=\"data row8 col11\" >0.519</td> \n",
       "        <td id=\"T_240b8b14_bee0_11e8_85ea_88d7f6ae85f1row8_col12\" class=\"data row8 col12\" >0.33</td> \n",
       "    </tr>    <tr> \n",
       "        <th id=\"T_240b8b14_bee0_11e8_85ea_88d7f6ae85f1level0_row9\" class=\"row_heading level0 row9\" >顏色強度 </th> \n",
       "        <td id=\"T_240b8b14_bee0_11e8_85ea_88d7f6ae85f1row9_col0\" class=\"data row9 col0\" >0.546</td> \n",
       "        <td id=\"T_240b8b14_bee0_11e8_85ea_88d7f6ae85f1row9_col1\" class=\"data row9 col1\" >0.249</td> \n",
       "        <td id=\"T_240b8b14_bee0_11e8_85ea_88d7f6ae85f1row9_col2\" class=\"data row9 col2\" >0.259</td> \n",
       "        <td id=\"T_240b8b14_bee0_11e8_85ea_88d7f6ae85f1row9_col3\" class=\"data row9 col3\" >0.019</td> \n",
       "        <td id=\"T_240b8b14_bee0_11e8_85ea_88d7f6ae85f1row9_col4\" class=\"data row9 col4\" >0.2</td> \n",
       "        <td id=\"T_240b8b14_bee0_11e8_85ea_88d7f6ae85f1row9_col5\" class=\"data row9 col5\" >-0.055</td> \n",
       "        <td id=\"T_240b8b14_bee0_11e8_85ea_88d7f6ae85f1row9_col6\" class=\"data row9 col6\" >-0.172</td> \n",
       "        <td id=\"T_240b8b14_bee0_11e8_85ea_88d7f6ae85f1row9_col7\" class=\"data row9 col7\" >0.139</td> \n",
       "        <td id=\"T_240b8b14_bee0_11e8_85ea_88d7f6ae85f1row9_col8\" class=\"data row9 col8\" >-0.025</td> \n",
       "        <td id=\"T_240b8b14_bee0_11e8_85ea_88d7f6ae85f1row9_col9\" class=\"data row9 col9\" >1</td> \n",
       "        <td id=\"T_240b8b14_bee0_11e8_85ea_88d7f6ae85f1row9_col10\" class=\"data row9 col10\" >-0.522</td> \n",
       "        <td id=\"T_240b8b14_bee0_11e8_85ea_88d7f6ae85f1row9_col11\" class=\"data row9 col11\" >-0.429</td> \n",
       "        <td id=\"T_240b8b14_bee0_11e8_85ea_88d7f6ae85f1row9_col12\" class=\"data row9 col12\" >0.316</td> \n",
       "    </tr>    <tr> \n",
       "        <th id=\"T_240b8b14_bee0_11e8_85ea_88d7f6ae85f1level0_row10\" class=\"row_heading level0 row10\" >顏色</th> \n",
       "        <td id=\"T_240b8b14_bee0_11e8_85ea_88d7f6ae85f1row10_col0\" class=\"data row10 col0\" >-0.072</td> \n",
       "        <td id=\"T_240b8b14_bee0_11e8_85ea_88d7f6ae85f1row10_col1\" class=\"data row10 col1\" >-0.561</td> \n",
       "        <td id=\"T_240b8b14_bee0_11e8_85ea_88d7f6ae85f1row10_col2\" class=\"data row10 col2\" >-0.075</td> \n",
       "        <td id=\"T_240b8b14_bee0_11e8_85ea_88d7f6ae85f1row10_col3\" class=\"data row10 col3\" >-0.274</td> \n",
       "        <td id=\"T_240b8b14_bee0_11e8_85ea_88d7f6ae85f1row10_col4\" class=\"data row10 col4\" >0.055</td> \n",
       "        <td id=\"T_240b8b14_bee0_11e8_85ea_88d7f6ae85f1row10_col5\" class=\"data row10 col5\" >0.434</td> \n",
       "        <td id=\"T_240b8b14_bee0_11e8_85ea_88d7f6ae85f1row10_col6\" class=\"data row10 col6\" >0.543</td> \n",
       "        <td id=\"T_240b8b14_bee0_11e8_85ea_88d7f6ae85f1row10_col7\" class=\"data row10 col7\" >-0.263</td> \n",
       "        <td id=\"T_240b8b14_bee0_11e8_85ea_88d7f6ae85f1row10_col8\" class=\"data row10 col8\" >0.296</td> \n",
       "        <td id=\"T_240b8b14_bee0_11e8_85ea_88d7f6ae85f1row10_col9\" class=\"data row10 col9\" >-0.522</td> \n",
       "        <td id=\"T_240b8b14_bee0_11e8_85ea_88d7f6ae85f1row10_col10\" class=\"data row10 col10\" >1</td> \n",
       "        <td id=\"T_240b8b14_bee0_11e8_85ea_88d7f6ae85f1row10_col11\" class=\"data row10 col11\" >0.565</td> \n",
       "        <td id=\"T_240b8b14_bee0_11e8_85ea_88d7f6ae85f1row10_col12\" class=\"data row10 col12\" >0.236</td> \n",
       "    </tr>    <tr> \n",
       "        <th id=\"T_240b8b14_bee0_11e8_85ea_88d7f6ae85f1level0_row11\" class=\"row_heading level0 row11\" >OD280/OD315被稀釋的酒</th> \n",
       "        <td id=\"T_240b8b14_bee0_11e8_85ea_88d7f6ae85f1row11_col0\" class=\"data row11 col0\" >0.072</td> \n",
       "        <td id=\"T_240b8b14_bee0_11e8_85ea_88d7f6ae85f1row11_col1\" class=\"data row11 col1\" >-0.369</td> \n",
       "        <td id=\"T_240b8b14_bee0_11e8_85ea_88d7f6ae85f1row11_col2\" class=\"data row11 col2\" >0.004</td> \n",
       "        <td id=\"T_240b8b14_bee0_11e8_85ea_88d7f6ae85f1row11_col3\" class=\"data row11 col3\" >-0.277</td> \n",
       "        <td id=\"T_240b8b14_bee0_11e8_85ea_88d7f6ae85f1row11_col4\" class=\"data row11 col4\" >0.066</td> \n",
       "        <td id=\"T_240b8b14_bee0_11e8_85ea_88d7f6ae85f1row11_col5\" class=\"data row11 col5\" >0.7</td> \n",
       "        <td id=\"T_240b8b14_bee0_11e8_85ea_88d7f6ae85f1row11_col6\" class=\"data row11 col6\" >0.787</td> \n",
       "        <td id=\"T_240b8b14_bee0_11e8_85ea_88d7f6ae85f1row11_col7\" class=\"data row11 col7\" >-0.503</td> \n",
       "        <td id=\"T_240b8b14_bee0_11e8_85ea_88d7f6ae85f1row11_col8\" class=\"data row11 col8\" >0.519</td> \n",
       "        <td id=\"T_240b8b14_bee0_11e8_85ea_88d7f6ae85f1row11_col9\" class=\"data row11 col9\" >-0.429</td> \n",
       "        <td id=\"T_240b8b14_bee0_11e8_85ea_88d7f6ae85f1row11_col10\" class=\"data row11 col10\" >0.565</td> \n",
       "        <td id=\"T_240b8b14_bee0_11e8_85ea_88d7f6ae85f1row11_col11\" class=\"data row11 col11\" >1</td> \n",
       "        <td id=\"T_240b8b14_bee0_11e8_85ea_88d7f6ae85f1row11_col12\" class=\"data row11 col12\" >0.313</td> \n",
       "    </tr>    <tr> \n",
       "        <th id=\"T_240b8b14_bee0_11e8_85ea_88d7f6ae85f1level0_row12\" class=\"row_heading level0 row12\" >脯氨酸</th> \n",
       "        <td id=\"T_240b8b14_bee0_11e8_85ea_88d7f6ae85f1row12_col0\" class=\"data row12 col0\" >0.644</td> \n",
       "        <td id=\"T_240b8b14_bee0_11e8_85ea_88d7f6ae85f1row12_col1\" class=\"data row12 col1\" >-0.192</td> \n",
       "        <td id=\"T_240b8b14_bee0_11e8_85ea_88d7f6ae85f1row12_col2\" class=\"data row12 col2\" >0.224</td> \n",
       "        <td id=\"T_240b8b14_bee0_11e8_85ea_88d7f6ae85f1row12_col3\" class=\"data row12 col3\" >-0.441</td> \n",
       "        <td id=\"T_240b8b14_bee0_11e8_85ea_88d7f6ae85f1row12_col4\" class=\"data row12 col4\" >0.393</td> \n",
       "        <td id=\"T_240b8b14_bee0_11e8_85ea_88d7f6ae85f1row12_col5\" class=\"data row12 col5\" >0.498</td> \n",
       "        <td id=\"T_240b8b14_bee0_11e8_85ea_88d7f6ae85f1row12_col6\" class=\"data row12 col6\" >0.494</td> \n",
       "        <td id=\"T_240b8b14_bee0_11e8_85ea_88d7f6ae85f1row12_col7\" class=\"data row12 col7\" >-0.311</td> \n",
       "        <td id=\"T_240b8b14_bee0_11e8_85ea_88d7f6ae85f1row12_col8\" class=\"data row12 col8\" >0.33</td> \n",
       "        <td id=\"T_240b8b14_bee0_11e8_85ea_88d7f6ae85f1row12_col9\" class=\"data row12 col9\" >0.316</td> \n",
       "        <td id=\"T_240b8b14_bee0_11e8_85ea_88d7f6ae85f1row12_col10\" class=\"data row12 col10\" >0.236</td> \n",
       "        <td id=\"T_240b8b14_bee0_11e8_85ea_88d7f6ae85f1row12_col11\" class=\"data row12 col11\" >0.313</td> \n",
       "        <td id=\"T_240b8b14_bee0_11e8_85ea_88d7f6ae85f1row12_col12\" class=\"data row12 col12\" >1</td> \n",
       "    </tr></tbody> \n",
       "</table> "
      ],
      "text/plain": [
       "<pandas.io.formats.style.Styler at 0x2e3f00920b8>"
      ]
     },
     "execution_count": 4,
     "metadata": {},
     "output_type": "execute_result"
    }
   ],
   "source": [
    "X.corr().round(3).style.apply(highlight_highcorr)"
   ]
  },
  {
   "cell_type": "code",
   "execution_count": 5,
   "metadata": {},
   "outputs": [],
   "source": [
    "# Splitting the dataset into the Training set and Test set\n",
    "from sklearn.model_selection import train_test_split\n",
    "X_train, X_test, y_train, y_test = train_test_split(X, y, test_size = 0.2, random_state = 0)\n",
    "\n",
    "# Feature Scaling\n",
    "from sklearn.preprocessing import StandardScaler\n",
    "sc = StandardScaler()\n",
    "X_train = sc.fit_transform(X_train)\n",
    "X_test = sc.transform(X_test)"
   ]
  },
  {
   "cell_type": "markdown",
   "metadata": {},
   "source": [
    "### PCA (n=13)"
   ]
  },
  {
   "cell_type": "code",
   "execution_count": 6,
   "metadata": {},
   "outputs": [
    {
     "data": {
      "text/plain": [
       "array([[ 0.87668336,  0.79842885,  0.64412971, ...,  0.0290166 ,\n",
       "        -1.06412236, -0.2059076 ],\n",
       "       [-0.36659076, -0.7581304 , -0.39779858, ...,  0.0290166 ,\n",
       "        -0.73083231, -0.81704676],\n",
       "       [-1.69689407, -0.34424759, -0.32337513, ...,  0.90197362,\n",
       "         0.51900537, -1.31256499],\n",
       "       ...,\n",
       "       [-0.70227477, -0.68615078, -0.65828065, ...,  0.46549511,\n",
       "         0.51900537, -1.31256499],\n",
       "       [ 1.13777093, -0.62316862, -0.91876272, ..., -0.18922266,\n",
       "         1.03282752,  0.80164614],\n",
       "       [ 1.4610222 ,  0.12361993,  0.42085937, ..., -1.45501034,\n",
       "        -1.2168803 , -0.2719767 ]])"
      ]
     },
     "execution_count": 6,
     "metadata": {},
     "output_type": "execute_result"
    }
   ],
   "source": [
    "import numpy as np\n",
    "import matplotlib.pyplot as plt\n",
    "from sklearn import decomposition\n",
    "%matplotlib inline\n",
    "\n",
    "pca = decomposition.PCA(n_components=None) # n=13\n",
    "pca.fit(X_train)\n",
    "X = pca.transform(X_train)\n",
    "X_train"
   ]
  },
  {
   "cell_type": "markdown",
   "metadata": {},
   "source": [
    "### 解釋共變異數比率"
   ]
  },
  {
   "cell_type": "code",
   "execution_count": 7,
   "metadata": {},
   "outputs": [
    {
     "data": {
      "text/plain": [
       "array([0.36884109, 0.19318394, 0.10752862, 0.07421996, 0.06245904,\n",
       "       0.04909   , 0.04117287, 0.02495984, 0.02308855, 0.01864124,\n",
       "       0.01731766, 0.01252785, 0.00696933])"
      ]
     },
     "execution_count": 7,
     "metadata": {},
     "output_type": "execute_result"
    }
   ],
   "source": [
    "pca.explained_variance_ratio_"
   ]
  },
  {
   "cell_type": "code",
   "execution_count": 8,
   "metadata": {},
   "outputs": [],
   "source": [
    "def accumulate(x):\n",
    "    p = []\n",
    "    for i in range(len(x)):\n",
    "        if(i==0):\n",
    "            p.append(x[i])\n",
    "        else:\n",
    "            p.append(p[i-1]+x[i])\n",
    "    return p"
   ]
  },
  {
   "cell_type": "code",
   "execution_count": 9,
   "metadata": {},
   "outputs": [
    {
     "data": {
      "text/plain": [
       "[0.3688410929485785,\n",
       " 0.562025035922731,\n",
       " 0.6695536580024909,\n",
       " 0.7437736198693176,\n",
       " 0.8062326588339482,\n",
       " 0.8553226637620309,\n",
       " 0.896495537049806,\n",
       " 0.9214553746207984,\n",
       " 0.9445439244060695,\n",
       " 0.963185159581166,\n",
       " 0.9805028244247825,\n",
       " 0.9930306714706727,\n",
       " 1.0]"
      ]
     },
     "execution_count": 9,
     "metadata": {},
     "output_type": "execute_result"
    }
   ],
   "source": [
    "p_accu = accumulate(pca.explained_variance_ratio_)\n",
    "p_accu"
   ]
  },
  {
   "cell_type": "code",
   "execution_count": 10,
   "metadata": {},
   "outputs": [
    {
     "data": {
      "image/png": "[encoded data removed]",
      "text/plain": [
       "<matplotlib.figure.Figure at 0x2e3f4a1f8d0>"
      ]
     },
     "metadata": {},
     "output_type": "display_data"
    }
   ],
   "source": [
    "y1 = pca.explained_variance_ratio_\n",
    "y2 = accumulate(pca.explained_variance_ratio_)\n",
    "x = [i for i in range(len(y1))]\n",
    "\n",
    "plt.figure()\n",
    "plt.bar(x,y1,align='center')\n",
    "plt.plot(x, y2, 'r-o')\n",
    "\n",
    "plt.show()"
   ]
  },
  {
   "cell_type": "code",
   "execution_count": 11,
   "metadata": {},
   "outputs": [],
   "source": [
    "from sklearn.preprocessing import LabelEncoder\n",
    "# 把類別轉成0,1,2，散佈圖上色用\n",
    "le = LabelEncoder()\n",
    "le.fit(['1', '2', '3'])\n",
    "y_label = le.transform(y_train)"
   ]
  },
  {
   "cell_type": "code",
   "execution_count": 22,
   "metadata": {},
   "outputs": [
    {
     "data": {
      "image/png": "[encoded data removed]",
      "text/plain": [
       "<matplotlib.figure.Figure at 0x2e3f4efa7b8>"
      ]
     },
     "metadata": {},
     "output_type": "display_data"
    }
   ],
   "source": [
    "plt.figure(figsize=(8, 6))\n",
    "plt.scatter(X_train[:, 0], X_train[:, 1], c=y_label, cmap=plt.cm.spectral, edgecolor='k') \n",
    "# 若無法work, 可修改其中cmap=plt.cm.get_cmap(\"Spectral\")\n",
    "plt.show()"
   ]
  },
  {
   "cell_type": "markdown",
   "metadata": {},
   "source": [
    "# PCA (n=2) - 將13個特徵值轉降成2個"
   ]
  },
  {
   "cell_type": "code",
   "execution_count": 13,
   "metadata": {},
   "outputs": [
    {
     "data": {
      "text/plain": [
       "array([[-2.17884511e+00, -1.07218467e+00],\n",
       "       [-1.80819239e+00,  1.57822344e+00],\n",
       "       [ 1.09829474e+00,  2.22124345e+00],\n",
       "       [-2.55584748e+00, -1.66210369e+00],\n",
       "       [ 1.85698063e+00,  2.41573166e-01],\n",
       "       [ 2.58288576e+00, -1.37668170e+00],\n",
       "       [ 8.72876119e-01,  2.25618512e+00],\n",
       "       [-4.18384029e-01,  2.35415681e+00],\n",
       "       [-3.04977245e-01,  2.27659433e+00],\n",
       "       [ 2.14082532e+00, -1.10052871e+00],\n",
       "       [-2.98136465e+00, -2.47159183e-01],\n",
       "       [ 1.96188242e+00,  1.25407738e+00],\n",
       "       [-2.16177795e+00, -9.75966550e-01],\n",
       "       [ 2.21976084e+00, -2.39507167e+00],\n",
       "       [-2.30179529e+00, -2.05791962e-01],\n",
       "       [-3.00953827e+00, -2.79141212e-01],\n",
       "       [ 2.63443473e+00, -8.68313119e-01],\n",
       "       [-1.09219965e+00, -3.53906625e+00],\n",
       "       [ 2.62578435e+00, -2.96852840e-03],\n",
       "       [ 1.98077342e-01,  2.29193443e+00],\n",
       "       [-2.67442753e+00, -2.58800132e+00],\n",
       "       [-2.54763698e+00, -4.52703891e-01],\n",
       "       [ 1.77416736e+00,  8.43586940e-01],\n",
       "       [-2.77786938e+00, -4.32090258e-01],\n",
       "       [-2.86679938e+00, -1.87580875e+00],\n",
       "       [ 1.35498845e+00,  3.99545184e-02],\n",
       "       [-2.43900474e+00,  9.44074889e-02],\n",
       "       [-2.27268121e+00,  5.05883053e-01],\n",
       "       [ 1.17887166e+00,  2.50068415e+00],\n",
       "       [-2.30673313e+00,  1.30502777e+00],\n",
       "       [-2.53020738e+00, -5.51277126e-01],\n",
       "       [ 1.63200028e-01,  1.29107817e+00],\n",
       "       [ 2.57881158e+00, -1.17515982e+00],\n",
       "       [-7.62471566e-01,  3.16097049e+00],\n",
       "       [ 2.57005937e+00, -9.66718786e-02],\n",
       "       [-4.78337042e-01,  5.77763823e-01],\n",
       "       [ 5.47417096e-01, -3.77647780e-01],\n",
       "       [ 3.55763538e+00, -1.45816125e+00],\n",
       "       [ 1.69260971e+00,  1.37844174e+00],\n",
       "       [ 2.65288395e+00, -2.39399539e-01],\n",
       "       [-3.62047411e+00, -6.90153979e-01],\n",
       "       [-1.61462317e+00, -2.41170340e+00],\n",
       "       [ 1.50959767e+00,  1.32717326e+00],\n",
       "       [ 5.36413494e-02,  2.07680094e+00],\n",
       "       [-1.07889168e-01,  2.85115217e+00],\n",
       "       [-2.39610454e+00, -2.45883860e+00],\n",
       "       [-3.12315181e+00,  4.23261512e-01],\n",
       "       [ 3.28569649e+00, -3.22859884e-01],\n",
       "       [-3.55506872e+00, -1.74242946e+00],\n",
       "       [-3.87020538e-01,  2.61510101e+00],\n",
       "       [-4.74514016e-01,  1.98023790e+00],\n",
       "       [-1.06865761e+00,  6.78906271e-01],\n",
       "       [ 1.08546036e+00,  1.30817801e+00],\n",
       "       [ 2.02340107e+00,  1.56926094e+00],\n",
       "       [ 2.76257094e+00, -1.85603600e+00],\n",
       "       [ 2.06778286e+00, -1.35861191e+00],\n",
       "       [ 9.06600653e-01,  2.04110996e+00],\n",
       "       [ 3.52336455e+00, -1.39946872e+00],\n",
       "       [-3.79914321e+00, -4.92727617e-02],\n",
       "       [ 1.75250993e+00,  4.64283651e-01],\n",
       "       [-3.46539192e+00, -7.90385134e-01],\n",
       "       [ 3.16221605e+00, -8.39879111e-01],\n",
       "       [ 2.37656864e+00, -1.72475988e+00],\n",
       "       [ 1.31278073e+00,  8.53348760e-01],\n",
       "       [ 3.57258440e+00, -1.78091597e+00],\n",
       "       [ 9.50877158e-01,  2.38927332e+00],\n",
       "       [ 4.95461316e-01,  2.16498322e+00],\n",
       "       [ 3.79294638e+00, -2.92787186e+00],\n",
       "       [-2.37978591e+00, -2.13572422e+00],\n",
       "       [-1.50346992e+00,  1.39146991e+00],\n",
       "       [ 2.50566646e+00, -1.30365941e+00],\n",
       "       [-6.97535788e-01,  2.78160736e-01],\n",
       "       [-7.25562555e-01,  2.54007170e+00],\n",
       "       [ 9.24047324e-01,  1.46344718e+00],\n",
       "       [-1.25151294e+00,  2.74792621e-02],\n",
       "       [ 2.20937835e+00, -8.05690832e-01],\n",
       "       [-3.84416995e+00, -5.74263508e-01],\n",
       "       [-1.77983157e+00, -1.38012167e+00],\n",
       "       [ 4.35413058e+00, -2.33750318e+00],\n",
       "       [ 3.33834347e+00, -1.51169086e+00],\n",
       "       [-1.44769123e+00,  1.90826204e+00],\n",
       "       [-2.75066706e+00, -2.07100640e+00],\n",
       "       [ 2.79475799e+00, -1.36659228e+00],\n",
       "       [ 1.84642601e+00, -6.82481476e-01],\n",
       "       [-4.13332842e-01,  2.20440158e+00],\n",
       "       [-4.81356617e-02,  1.17469609e+00],\n",
       "       [ 1.99166500e+00, -2.50860656e-01],\n",
       "       [ 2.26421169e+00, -1.32120813e+00],\n",
       "       [ 7.85551414e-01, -2.46487051e-01],\n",
       "       [-3.32586984e+00, -2.14485564e+00],\n",
       "       [ 1.00496881e+00,  7.20390295e-01],\n",
       "       [ 2.31479633e+00,  2.62129546e-01],\n",
       "       [ 8.67032066e-01,  1.36440259e+00],\n",
       "       [-2.28629769e+00, -4.54244754e-01],\n",
       "       [ 3.14452871e+00, -1.29318898e+00],\n",
       "       [-1.65297942e+00,  1.74177394e+00],\n",
       "       [-2.84689388e+00, -7.78426712e-02],\n",
       "       [-2.68393126e+00, -2.53813173e-01],\n",
       "       [ 1.97280128e+00, -1.70171835e+00],\n",
       "       [ 1.63120111e+00,  7.24762688e-01],\n",
       "       [-2.05082836e+00, -2.11848206e-01],\n",
       "       [ 2.28798382e+00, -1.95899701e+00],\n",
       "       [-2.28266458e+00, -2.07243579e-01],\n",
       "       [-3.45079842e-01,  1.92360626e+00],\n",
       "       [ 1.49448758e+00, -7.18673825e-01],\n",
       "       [ 2.26695932e+00, -7.93531817e-01],\n",
       "       [-3.44673144e-01,  1.92686997e+00],\n",
       "       [ 2.75927029e+00, -1.56391999e+00],\n",
       "       [-2.86839562e+00, -1.85579453e+00],\n",
       "       [-1.46228982e+00,  1.22151405e+00],\n",
       "       [-3.31754434e+00, -1.20382601e+00],\n",
       "       [ 1.72057718e+00, -1.36843828e-01],\n",
       "       [-2.90065973e+00, -3.71521776e-01],\n",
       "       [-2.30532411e+00, -2.14386284e+00],\n",
       "       [-3.51377495e+00, -1.17981731e+00],\n",
       "       [ 2.32780065e+00, -2.95396131e-01],\n",
       "       [ 1.54528723e+00,  1.99996309e+00],\n",
       "       [-3.32660657e-01,  2.37118865e+00],\n",
       "       [ 4.96648201e-01,  9.57282660e-01],\n",
       "       [ 6.69654741e-01,  3.80907536e+00],\n",
       "       [-2.76009366e+00, -1.48785734e+00],\n",
       "       [-3.19187371e+00, -2.70815669e+00],\n",
       "       [-6.05023707e-01,  1.10583182e+00],\n",
       "       [-1.34006934e+00,  1.51232906e+00],\n",
       "       [ 1.05506599e+00, -9.49724036e-01],\n",
       "       [ 1.16017702e+00,  1.39768493e+00],\n",
       "       [-2.87675356e+00, -1.15157946e+00],\n",
       "       [-2.35838421e+00, -2.44842974e+00],\n",
       "       [ 2.54704855e+00, -1.86824592e+00],\n",
       "       [ 3.20597222e+00, -1.85912926e+00],\n",
       "       [-2.69949485e+00, -1.75638262e-01],\n",
       "       [-9.67436859e-01,  1.81399824e+00],\n",
       "       [-1.46454259e+00,  1.01680272e+00],\n",
       "       [-4.04000223e-01,  2.40815711e+00],\n",
       "       [ 1.46393837e+00, -6.90763351e-01],\n",
       "       [ 1.15903114e+00, -2.91379684e-01],\n",
       "       [ 2.82057099e+00, -8.99578955e-01],\n",
       "       [-5.01011897e-01,  2.68453162e+00],\n",
       "       [ 3.30453915e-01,  2.43396193e+00],\n",
       "       [ 1.09727608e-02,  1.99585453e+00],\n",
       "       [ 2.89176687e+00, -7.71555485e-01],\n",
       "       [-2.44830439e+00, -2.11360296e+00]])"
      ]
     },
     "execution_count": 13,
     "metadata": {},
     "output_type": "execute_result"
    }
   ],
   "source": [
    "import numpy as np\n",
    "import matplotlib.pyplot as plt\n",
    "from sklearn import decomposition\n",
    "%matplotlib inline\n",
    "\n",
    "pca = decomposition.PCA(n_components=2)\n",
    "pca.fit(X_train)\n",
    "X_train = pca.transform(X_train)\n",
    "X_train"
   ]
  },
  {
   "cell_type": "code",
   "execution_count": 14,
   "metadata": {},
   "outputs": [
    {
     "data": {
      "text/plain": [
       "array([0.36884109, 0.19318394])"
      ]
     },
     "execution_count": 14,
     "metadata": {},
     "output_type": "execute_result"
    }
   ],
   "source": [
    "pca.explained_variance_ratio_"
   ]
  },
  {
   "cell_type": "code",
   "execution_count": 15,
   "metadata": {},
   "outputs": [
    {
     "data": {
      "text/html": [
       "<div>\n",
       "<style scoped>\n",
       "    .dataframe tbody tr th:only-of-type {\n",
       "        vertical-align: middle;\n",
       "    }\n",
       "\n",
       "    .dataframe tbody tr th {\n",
       "        vertical-align: top;\n",
       "    }\n",
       "\n",
       "    .dataframe thead th {\n",
       "        text-align: right;\n",
       "    }\n",
       "</style>\n",
       "<table border=\"1\" class=\"dataframe\">\n",
       "  <thead>\n",
       "    <tr style=\"text-align: right;\">\n",
       "      <th></th>\n",
       "      <th>0</th>\n",
       "      <th>1</th>\n",
       "    </tr>\n",
       "  </thead>\n",
       "  <tbody>\n",
       "    <tr>\n",
       "      <th>0</th>\n",
       "      <td>1.000000e+00</td>\n",
       "      <td>-6.578944e-16</td>\n",
       "    </tr>\n",
       "    <tr>\n",
       "      <th>1</th>\n",
       "      <td>-6.578944e-16</td>\n",
       "      <td>1.000000e+00</td>\n",
       "    </tr>\n",
       "  </tbody>\n",
       "</table>\n",
       "</div>"
      ],
      "text/plain": [
       "              0             1\n",
       "0  1.000000e+00 -6.578944e-16\n",
       "1 -6.578944e-16  1.000000e+00"
      ]
     },
     "execution_count": 15,
     "metadata": {},
     "output_type": "execute_result"
    }
   ],
   "source": [
    "pd.DataFrame(X_train).corr()"
   ]
  },
  {
   "cell_type": "code",
   "execution_count": 16,
   "metadata": {},
   "outputs": [],
   "source": [
    "from sklearn.preprocessing import LabelEncoder\n",
    "le = LabelEncoder()\n",
    "le.fit(['1', '2', '3'])\n",
    "y_label = le.transform(y_train)"
   ]
  },
  {
   "cell_type": "code",
   "execution_count": 17,
   "metadata": {},
   "outputs": [
    {
     "data": {
      "image/png": "[encoded data removed]",
      "text/plain": [
       "<matplotlib.figure.Figure at 0x2e3f4d64358>"
      ]
     },
     "metadata": {},
     "output_type": "display_data"
    }
   ],
   "source": [
    "plt.figure(figsize=(8, 6))\n",
    "plt.scatter(X_train[:, 0], X_train[:, 1], c=y_label, cmap=plt.cm.spectral, edgecolor='k')\n",
    "plt.show()"
   ]
  },
  {
   "cell_type": "markdown",
   "metadata": {},
   "source": [
    "## LogisticRegression (使用2個components)"
   ]
  },
  {
   "cell_type": "code",
   "execution_count": 18,
   "metadata": {},
   "outputs": [],
   "source": [
    "# Importing the libraries\n",
    "import numpy as np\n",
    "import matplotlib.pyplot as plt\n",
    "import pandas as pd\n",
    "\n",
    "# Importing the dataset\n",
    "dataset = pd.read_csv(\"Wine.csv\",encoding = \"big5\")\n",
    "X = dataset.iloc[:, 0:13].values\n",
    "y = dataset.iloc[:, 13].values\n",
    "# Splitting the dataset into the Training set and Test set\n",
    "from sklearn.model_selection import train_test_split\n",
    "X_train, X_test, y_train, y_test = train_test_split(X, y, test_size = 0.2, random_state = 0)\n",
    "\n",
    "# Feature Scaling\n",
    "from sklearn.preprocessing import StandardScaler\n",
    "sc = StandardScaler()\n",
    "X_train = sc.fit_transform(X_train)\n",
    "X_test = sc.transform(X_test)\n",
    "\n",
    "# Applying PCA\n",
    "from sklearn.decomposition import PCA\n",
    "pca = PCA(n_components = 2)\n",
    "X_train = pca.fit_transform(X_train)\n",
    "X_test = pca.transform(X_test)\n",
    "explained_variance = pca.explained_variance_ratio_\n",
    "\n",
    "# Fitting Logistic Regression to the Training set\n",
    "from sklearn.linear_model import LogisticRegression\n",
    "classifier = LogisticRegression(random_state = 0)\n",
    "classifier.fit(X_train, y_train)\n",
    "\n",
    "# Predicting the Test set results\n",
    "y_pred = classifier.predict(X_test)\n",
    "\n",
    "# Making the Confusion Matrix\n",
    "from sklearn.metrics import confusion_matrix\n",
    "cm = confusion_matrix(y_test, y_pred)\n",
    "\n",
    "\n"
   ]
  },
  {
   "cell_type": "code",
   "execution_count": 19,
   "metadata": {},
   "outputs": [
    {
     "data": {
      "image/png": "[encoded data removed]",
      "text/plain": [
       "<matplotlib.figure.Figure at 0x2e3f4e99470>"
      ]
     },
     "metadata": {},
     "output_type": "display_data"
    }
   ],
   "source": [
    "# Visualising the Training set results\n",
    "from matplotlib.colors import ListedColormap\n",
    "X_set, y_set = X_train, y_train\n",
    "X1, X2 = np.meshgrid(np.arange(start = X_set[:, 0].min() - 1, stop = X_set[:, 0].max() + 1, step = 0.01),\n",
    "                     np.arange(start = X_set[:, 1].min() - 1, stop = X_set[:, 1].max() + 1, step = 0.01))\n",
    "plt.contourf(X1, X2, classifier.predict(np.array([X1.ravel(), X2.ravel()]).T).reshape(X1.shape),\n",
    "             alpha = 0.75, cmap = ListedColormap(('red', 'green', 'blue')))\n",
    "plt.xlim(X1.min(), X1.max())\n",
    "plt.ylim(X2.min(), X2.max())\n",
    "for i, j in enumerate(np.unique(y_set)):\n",
    "    plt.scatter(X_set[y_set == j, 0], X_set[y_set == j, 1],\n",
    "                c = ListedColormap(('red', 'green', 'blue'))(i), label = j)\n",
    "plt.title('Logistic Regression (Training set)')\n",
    "plt.xlabel('PC1')\n",
    "plt.ylabel('PC2')\n",
    "plt.legend()\n",
    "plt.show()\n"
   ]
  },
  {
   "cell_type": "code",
   "execution_count": 20,
   "metadata": {},
   "outputs": [
    {
     "data": {
      "image/png": "[encoded data removed]",
      "text/plain": [
       "<matplotlib.figure.Figure at 0x2e3f4e9fac8>"
      ]
     },
     "metadata": {},
     "output_type": "display_data"
    }
   ],
   "source": [
    "# Visualising the Test set results\n",
    "from matplotlib.colors import ListedColormap\n",
    "X_set, y_set = X_test, y_test\n",
    "X1, X2 = np.meshgrid(np.arange(start = X_set[:, 0].min() - 1, stop = X_set[:, 0].max() + 1, step = 0.01),\n",
    "                     np.arange(start = X_set[:, 1].min() - 1, stop = X_set[:, 1].max() + 1, step = 0.01))\n",
    "plt.contourf(X1, X2, classifier.predict(np.array([X1.ravel(), X2.ravel()]).T).reshape(X1.shape),\n",
    "             alpha = 0.75, cmap = ListedColormap(('red', 'green', 'blue')))\n",
    "plt.xlim(X1.min(), X1.max())\n",
    "plt.ylim(X2.min(), X2.max())\n",
    "for i, j in enumerate(np.unique(y_set)):\n",
    "    plt.scatter(X_set[y_set == j, 0], X_set[y_set == j, 1],\n",
    "                c = ListedColormap(('red', 'green', 'blue'))(i), label = j)\n",
    "plt.title('Logistic Regression (Test set)')\n",
    "plt.xlabel('PC1')\n",
    "plt.ylabel('PC2')\n",
    "plt.legend()\n",
    "plt.show()"
   ]
  },
  {
   "cell_type": "code",
   "execution_count": null,
   "metadata": {},
   "outputs": [],
   "source": []
  }
 ],
 "metadata": {
  "anaconda-cloud": {},
  "kernelspec": {
   "display_name": "Python 3",
   "language": "python",
   "name": "python3"
  },
  "language_info": {
   "codemirror_mode": {
    "name": "ipython",
    "version": 3
   },
   "file_extension": ".py",
   "mimetype": "text/x-python",
   "name": "python",
   "nbconvert_exporter": "python",
   "pygments_lexer": "ipython3",
   "version": "3.6.4"
  }
 },
 "nbformat": 4,
 "nbformat_minor": 1
}
